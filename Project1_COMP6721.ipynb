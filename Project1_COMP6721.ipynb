{
 "cells": [
  {
   "cell_type": "code",
   "execution_count": 62,
   "metadata": {},
   "outputs": [],
   "source": [
    "import geopandas as gpd\n",
    "import numpy as np\n",
    "import matplotlib.pyplot as plt"
   ]
  },
  {
   "cell_type": "code",
   "execution_count": 170,
   "metadata": {},
   "outputs": [],
   "source": [
    "def doPlot():\n",
    "    crimedataLocation = 'D:/AI/Project1/Shape/crime_dt.shp' \n",
    "    gridsize = 0.002\n",
    "    crimedata = gpd.read_file(crimedataLocation)\n",
    "    #print(crimedata)\n",
    "    \n",
    "    #crimedata.plot()\n",
    "    bounds=np.array([[-73.59,45.49],[-73.55,45.49],[-73.55,45.53],[-73.59,45.53]])\n",
    "    long,lat = bounds.T\n",
    "    gridx = np.arange(min(long),max(long),gridsize)\n",
    "    gridy = np.arange(min(lat),max(lat),gridsize)\n",
    "    #print(gridx)\n",
    "    #print(gridy)\n",
    "    H, xedges, yedges = np.histogram2d(crimedata['geometry'].x, crimedata['geometry'].y,bins=[gridx, gridy])\n",
    "    print(H.shape)\n",
    "    plt.figure()\n",
    "    #plt.plot(x,y,'ro')\n",
    "    #plt.grid(True)\n",
    "    #plt.figure()\n",
    "    myextent  =[xedges[0],xedges[-1],yedges[0],yedges[-1]]\n",
    "    plt.imshow(H.T,origin='low',extent=myextent,interpolation='nearest',aspect='auto')\n",
    "    #plt.plot(x,y,'ro')\n",
    "    #plt.colorbar()\n",
    "    #plt.scatter(x,y,100,'r')\n",
    "    plt.show()\n",
    "    return H,xedges,yedges\n"
   ]
  },
  {
   "cell_type": "code",
   "execution_count": 194,
   "metadata": {},
   "outputs": [
    {
     "name": "stdout",
     "output_type": "stream",
     "text": [
      "(20, 19)\n"
     ]
    },
    {
     "data": {
      "image/png": "[encoded data removed]",
      "text/plain": [
       "<Figure size 432x288 with 1 Axes>"
      ]
     },
     "metadata": {
      "needs_background": "light"
     },
     "output_type": "display_data"
    },
    {
     "name": "stdout",
     "output_type": "stream",
     "text": [
      "[  0.   0.   0.   0.   0.   0.   0.   0.   0.   0.   0.   0.   0.   0.\n",
      "   0.   0.   0.   0.   0.   0.   0.   0.   0.   0.   0.   0.   0.   0.\n",
      "   0.   0.   0.   0.   0.   0.   0.   0.   0.   0.   0.   0.   0.   0.\n",
      "   0.   0.   0.   0.   0.   0.   0.   0.   0.   0.   0.   0.   0.   0.\n",
      "   0.   0.   1.   1.   2.   2.   2.   2.   3.   3.   3.   4.   4.   4.\n",
      "   5.   5.   5.   5.   5.   5.   5.   5.   6.   6.   6.   6.   6.   6.\n",
      "   6.   7.   8.   8.   8.   9.   9.   9.   9.   9.   9.   9.   9.  10.\n",
      "  10.  10.  10.  11.  11.  11.  11.  11.  11.  12.  12.  12.  12.  14.\n",
      "  14.  14.  15.  15.  15.  16.  16.  16.  17.  17.  18.  18.  18.  18.\n",
      "  19.  19.  19.  19.  19.  20.  21.  21.  21.  21.  21.  21.  22.  23.\n",
      "  23.  23.  23.  23.  23.  24.  24.  24.  24.  24.  25.  25.  25.  25.\n",
      "  25.  25.  25.  25.  27.  27.  27.  27.  28.  28.  28.  29.  29.  29.\n",
      "  29.  30.  30.  30.  30.  30.  31.  31.  31.  31.  32.  32.  32.  33.\n",
      "  34.  35.  35.  37.  37.  37.  38.  38.  38.  38.  38.  39.  39.  39.\n",
      "  39.  40.  40.  40.  40.  41.  41.  41.  41.  42.  42.  43.  43.  44.\n",
      "  44.  44.  44.  44.  44.  45.  45.  46.  46.  46.  46.  47.  47.  47.\n",
      "  47.  47.  47.  48.  49.  50.  50.  51.  52.  52.  52.  53.  53.  53.\n",
      "  54.  55.  55.  55.  55.  56.  56.  56.  56.  57.  57.  57.  58.  58.\n",
      "  59.  59.  59.  60.  60.  61.  61.  61.  61.  62.  62.  62.  62.  63.\n",
      "  64.  64.  65.  65.  65.  65.  65.  66.  66.  66.  67.  67.  67.  70.\n",
      "  70.  70.  70.  70.  71.  71.  71.  71.  72.  73.  73.  73.  74.  75.\n",
      "  75.  76.  76.  76.  76.  77.  77.  78.  78.  79.  79.  79.  79.  80.\n",
      "  81.  81.  81.  83.  83.  84.  84.  85.  88.  88.  90.  90.  91.  91.\n",
      "  93.  94.  94.  95.  95.  97.  98.  98.  98.  99. 100. 100. 101. 101.\n",
      " 102. 103. 104. 105. 109. 110. 110. 111. 112. 113. 114. 117. 119. 119.\n",
      " 123. 127. 131. 132. 134. 135. 139. 140. 149. 150. 153. 156. 157. 158.\n",
      " 162. 165. 166. 167. 182. 187. 189. 191. 200. 205. 212. 218. 222. 255.\n",
      " 270. 278.]\n",
      "71.0\n",
      "71\n",
      "[[0. 0. 0. 0. 0. 0. 0. 0. 0. 0. 0. 0. 0. 0. 0. 0. 0. 0. 0.]\n",
      " [0. 0. 0. 0. 0. 0. 0. 0. 0. 0. 0. 0. 0. 0. 1. 1. 0. 0. 1.]\n",
      " [0. 0. 0. 0. 0. 1. 0. 0. 0. 0. 0. 0. 0. 0. 0. 0. 0. 0. 0.]\n",
      " [1. 1. 0. 0. 0. 0. 0. 0. 0. 0. 0. 0. 0. 1. 0. 0. 1. 0. 0.]\n",
      " [1. 1. 1. 1. 0. 0. 0. 0. 0. 0. 0. 0. 0. 0. 1. 0. 1. 0. 0.]\n",
      " [0. 1. 1. 1. 0. 0. 0. 0. 0. 0. 0. 0. 0. 1. 0. 1. 0. 0. 0.]\n",
      " [0. 0. 1. 0. 1. 1. 0. 0. 0. 1. 0. 0. 0. 1. 1. 0. 0. 0. 0.]\n",
      " [0. 0. 1. 1. 0. 1. 0. 0. 1. 1. 0. 0. 1. 0. 0. 1. 0. 1. 0.]\n",
      " [0. 0. 1. 0. 1. 1. 0. 0. 1. 0. 0. 1. 1. 0. 1. 0. 0. 0. 1.]\n",
      " [0. 0. 0. 1. 1. 1. 0. 1. 1. 1. 1. 1. 1. 0. 0. 0. 0. 0. 0.]\n",
      " [0. 0. 0. 0. 0. 0. 1. 1. 1. 0. 0. 1. 0. 0. 0. 0. 0. 0. 0.]\n",
      " [0. 0. 0. 0. 0. 0. 1. 0. 0. 0. 1. 1. 0. 0. 1. 0. 0. 0. 0.]\n",
      " [0. 0. 0. 0. 0. 0. 0. 1. 0. 1. 0. 0. 1. 0. 0. 0. 0. 0. 0.]\n",
      " [0. 0. 0. 0. 0. 0. 0. 0. 0. 1. 0. 0. 0. 0. 0. 1. 0. 0. 0.]\n",
      " [0. 0. 0. 0. 0. 0. 0. 0. 0. 1. 0. 1. 1. 1. 1. 0. 0. 0. 0.]\n",
      " [0. 0. 0. 0. 0. 1. 1. 1. 1. 0. 1. 0. 1. 1. 0. 0. 0. 1. 1.]\n",
      " [0. 0. 0. 0. 0. 1. 1. 0. 1. 0. 0. 1. 1. 1. 1. 0. 0. 0. 0.]\n",
      " [0. 0. 0. 0. 0. 1. 1. 1. 1. 0. 0. 1. 0. 1. 1. 0. 0. 0. 0.]\n",
      " [0. 0. 0. 0. 0. 0. 0. 1. 0. 0. 1. 0. 0. 0. 0. 1. 0. 0. 0.]\n",
      " [0. 0. 0. 0. 0. 0. 0. 0. 0. 1. 0. 0. 0. 0. 0. 0. 1. 0. 0.]]\n"
     ]
    },
    {
     "data": {
      "image/png": "[encoded data removed]",
      "text/plain": [
       "<Figure size 432x288 with 1 Axes>"
      ]
     },
     "metadata": {
      "needs_background": "light"
     },
     "output_type": "display_data"
    }
   ],
   "source": [
    "if __name__==\"__main__\":\n",
    "    H,xedges,yedges = doPlot()\n",
    "    threshold_limit = thresholdCalc(H)\n",
    "    print(threshold_limit)\n",
    "    reversesorted_array = H;\n",
    "    reversesorted_array[reversesorted_array < threshold_limit] = 0\n",
    "    reversesorted_array[reversesorted_array >= threshold_limit] = 1\n",
    "    print(reversesorted_array)\n",
    "    plt.imshow(reversesorted_array,extent=[xedges[0], xedges[-1], yedges[0], yedges[-1]])"
   ]
  },
  {
   "cell_type": "code",
   "execution_count": 193,
   "metadata": {},
   "outputs": [],
   "source": [
    "def thresholdCalc(H):\n",
    "    threshold = int(75)\n",
    "    #reversesorted_array = -np.sort(-H)\n",
    "    sorted_array = H.reshape(1,-1)\n",
    "    sorted_array.sort()\n",
    "    \n",
    "    #reverse_sort = np.fliplr(H)\n",
    "    #reverse_sort = sorted_array[::-1]\n",
    "    numberOfElements = np.size(H,1)\n",
    "    #calchighrisk = np.divide(threshold,100)\n",
    "    print(sorted_array[0])\n",
    "    highriskNum = sorted_array[0][int(threshold/100 * sorted_array.shape[1])]\n",
    "    print(highriskNum)\n",
    "    return int(highriskNum)\n",
    "    \n",
    "    \n"
   ]
  }
 ],
 "metadata": {
  "kernelspec": {
   "display_name": "Python 3",
   "language": "python",
   "name": "python3"
  },
  "language_info": {
   "codemirror_mode": {
    "name": "ipython",
    "version": 3
   },
   "file_extension": ".py",
   "mimetype": "text/x-python",
   "name": "python",
   "nbconvert_exporter": "python",
   "pygments_lexer": "ipython3",
   "version": "3.7.3"
  }
 },
 "nbformat": 4,
 "nbformat_minor": 2
}
